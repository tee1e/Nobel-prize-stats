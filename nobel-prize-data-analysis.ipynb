{
 "metadata": {
  "language_info": {
   "codemirror_mode": {
    "name": "ipython",
    "version": 3
   },
   "file_extension": ".py",
   "mimetype": "text/x-python",
   "name": "python",
   "nbconvert_exporter": "python",
   "pygments_lexer": "ipython3",
   "version": "3.8.2-final"
  },
  "orig_nbformat": 2,
  "kernelspec": {
   "name": "python3",
   "display_name": "Python 3"
  }
 },
 "nbformat": 4,
 "nbformat_minor": 2,
 "cells": [
  {
   "source": [
    "![title](img/nobel.png)"
   ],
   "cell_type": "markdown",
   "metadata": {}
  },
  {
   "source": [
    "# Nobel Prize Data Analysis"
   ],
   "cell_type": "markdown",
   "metadata": {}
  },
  {
   "source": [
    "## Introduction"
   ],
   "cell_type": "markdown",
   "metadata": {}
  },
  {
   "source": [
    "The Nobel Prizes are the creation of Alfred B. Nobel, a Swedish dynamite magnate. In 1895 in his will he declared that the bulk of his fortune be used to annually reward the persons “who, during the preceding year, shall have conferred the greatest benefit to mankind” in physics, chemistry, physiology or medicine, literature and peace. The economics prize was added to the original awards in 1969, it is the only Nobel that was not stipulated in the will."
   ],
   "cell_type": "markdown",
   "metadata": {}
  },
  {
   "source": [
    "## Analysis"
   ],
   "cell_type": "markdown",
   "metadata": {}
  },
  {
   "source": [
    "Importing the required libraries."
   ],
   "cell_type": "markdown",
   "metadata": {}
  },
  {
   "cell_type": "code",
   "execution_count": 2,
   "metadata": {},
   "outputs": [],
   "source": [
    "import os\n",
    "import pandas as pd\n",
    "import numpy as np\n",
    "import matplotlib.pyplot as plt\n",
    "import seaborn as sns"
   ]
  },
  {
   "source": [
    "### Data"
   ],
   "cell_type": "markdown",
   "metadata": {}
  },
  {
   "source": [
    "The source of this project's data is this [Nobel Prize dataset](https://www.kaggle.com/bahramjannesarr/nobel-prize-from-1901-till-2020)."
   ],
   "cell_type": "markdown",
   "metadata": {}
  },
  {
   "cell_type": "code",
   "execution_count": 3,
   "metadata": {},
   "outputs": [],
   "source": [
    "nobel_data = pd.read_csv('data/nobel_final.csv')"
   ]
  }
 ]
}